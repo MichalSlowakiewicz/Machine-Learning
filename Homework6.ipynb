{
  "cells": [
    {
      "cell_type": "markdown",
      "metadata": {
        "id": "view-in-github",
        "colab_type": "text"
      },
      "source": [
        "<a href=\"https://colab.research.google.com/github/MichalSlowakiewicz/Machine-Learning/blob/master/Homework6.ipynb\" target=\"_parent\"><img src=\"https://colab.research.google.com/assets/colab-badge.svg\" alt=\"Open In Colab\"/></a>"
      ]
    },
    {
      "cell_type": "markdown",
      "source": [
        "# **Homework Assignment: Understanding Splitting Criteria in CART for Regression**\n",
        "---------------------\n",
        "\n",
        "In this assignment, you will explore three common formulations of the splitting criterion used in **CART (Classification and Regression Trees)** for **regression problems**:\n",
        "\n",
        "1. **Local RSS Minimization**  \n",
        "2. **RSS Gain Maximization**  \n",
        "3. **Total RSS Minimization**\n",
        "\n",
        "You will investigate whether any of these criteria are equivalent, and you will design an experiment to determine which criterion is actually employed in a standard implementation such as **scikit-learn’s DecisionTreeRegressor**.\n",
        "\n",
        "\n",
        "\n",
        "## **The Problem**\n",
        "\n",
        "Many treatments of CART for regression describe the split selection process in different ways. Below are three frequently cited formulations. Suppose we have a dataset with features $X$ and target $y$, and we seek to choose a feature $X_j$ and a threshold $t$ to split the data into two regions $R_1(X_j, t)$ and $R_2(X_j, t)$. Denote by $\\bar{y}_{R_m}$ the mean of targets within region $R_m$.\n",
        "\n",
        "1. **Local RSS Minimization**  \n",
        "   We select the feature and threshold that minimize the **sum of squared errors** in the two resulting child nodes:\n",
        "   $$\n",
        "   (X_j^*, t^*) = \\arg\\min_{X_j, t} \\sum_{m=1}^{2} \\sum_{i : x_i \\in R_m(X_j, t)} (y_i - \\bar{y}_{R_m})^2.\n",
        "   $$\n",
        "\n",
        "2. **RSS Gain Maximization**  \n",
        "\n",
        "   It is also a local method, looking only at a parent and two child nodes.\n",
        "\n",
        "   We select the feature and threshold that maximize the **reduction** in RSS, computed by subtracting the RSS of the two child nodes from the RSS in the parent node:\n",
        "   $$\n",
        "   (X_j^*, t^*) = \\arg\\max_{X_j, t} \\Bigl\\{\n",
        "   \\underbrace{\\sum_{i : x_i \\in \\text{Parent}} (y_i - \\bar{y})^2}_{\\text{Parent RSS}}\n",
        "   \\;-\\;\n",
        "   \\underbrace{\\sum_{m=1}^{2} \\sum_{i : x_i \\in R_m(X_j, t)} (y_i - \\bar{y}_{R_m})^2}_{\\text{Children RSS}}\n",
        "   \\Bigr\\}.\n",
        "   $$\n",
        "\n",
        "3. **Total RSS Minimization**  \n",
        "   For a dataset $\\{(x_i, y_i)\\}_{i=1}^N$ with features $X$ and target $y$, let $T$ be the current tree.\n",
        "\n",
        "   For any split on feature $X_j$ at threshold $t$, define $T(X_j, t)$ as the new tree obtained by splitting one leaf of $T$ into two leaves $R_1(X_j, t)$ and $R_2(X_j, t)$.\n",
        "   \n",
        "   Let $\\mathrm{Leaves}(T(X_j, t))$ be the set of all leaf indices in this new tree. For each leaf $m \\in \\mathrm{Leaves}(T(X_j, t))$, define:\n",
        "   $$\n",
        "   R_m = \\{\\, i \\,\\mid\\, x_i \\text{ ends in leaf } m\\}.\n",
        "   $$\n",
        "\n",
        "   $R_m$ set collects all data indices $i$ whose feature vector $x_i$ is classified into the leaf node $m$ when passed through the tree $T(X_j,t)$. In other words, each leaf node $m$ in $T(X_j, t)$ corresponds to a unique path of splits, and any data point $x_i$ that follows that path is assigned to the leaf $m$; hence, it belongs to $R_m$.\n",
        "\n",
        "   $R_m$ sets for all leafs $m \\in \\mathrm{Leaves}(T(X_j, t))$ define a partition of all indices.\n",
        "\n",
        "   Then the objective of **minimizing total Residual Sum of Squares (total RSS)** is stated as:\n",
        "   $$\n",
        "   (X_j^*, t^*) = \\arg\\min_{(X_j, t)} \\sum_{m \\in \\mathrm{Leaves}(T(X_j, t))}\n",
        "   \\sum_{i \\in R_m} \\Bigl(y_i - \\overline{y}_{R_m}\\Bigr)^2,\n",
        "   $$\n",
        "   where\n",
        "   $$\n",
        "   \\overline{y}_{R_m} = \\frac{1}{\\lvert R_m \\rvert}\n",
        "   \\sum_{i \\in R_m} y_i\n",
        "   $$\n",
        "   is the mean response in leaf $m$.\n",
        "\n",
        "\n",
        "## **Research Questions**\n",
        "\n",
        "1. **Equivalence Analysis**  \n",
        "   Determine whether the above formulations are equivalent or if they can yield different split choices. Specifically:\n",
        "   - Are *local RSS minimization* and *RSS gain maximization* equivalent?\n",
        "   - Does *total RSS minimization* coincide with either of these two, or is it distinct?\n",
        "   \n",
        "2. **Empirical Experiment**  \n",
        "   Design and conduct a Python experiment to determine which of these formulations is implemented in `scikit-learn` in `DecisionTreeRegressor`. Present numerical results and plots to support your conclusion.\n",
        "\n",
        "\n",
        "## **Tasks & Deliverables**\n",
        "\n",
        "1. **Formulation Analysis**  \n",
        "   - Compare *local RSS minimization*, *RSS gain maximization*, and *total RSS minimization*.\n",
        "   - If you find that any pair of formulations is equivalent, provide a concise proof.  \n",
        "   - If you find that they differ, construct a counterexample.\n",
        "\n",
        "2. **Empirical Verification**  \n",
        "   - Create a small artificial dataset and train a `DecisionTreeRegressor` from `scikit-learn`.\n",
        "   - The dataset must be designed in a way that uniquely identifies the formulation used. Provide a short code snippet and a plot or table to support your conclusion.\n",
        "\n",
        "3. **Report**  \n",
        "   - Summarize your theoretical insights and empirical findings in a **Colab notebook**.\n",
        "   - Include the relevant proofs, code, discussion, and conclusions.\n",
        "   - Place the notebook in your **GitHub repository** for this course, add a link to it in your README.md and add an **“Open in Colab”** badge in the notebook so it can be launched directly.\n",
        "\n"
      ],
      "metadata": {
        "id": "CiiBWLwyz6PI"
      },
      "id": "CiiBWLwyz6PI"
    },
    {
      "cell_type": "markdown",
      "source": [
        "**1) Are local RSS minimization and RSS gain maximization equivalent?**\n",
        "\n",
        "**2) Does total RSS minimization coincide with either of these two, or is it distinct?**\n",
        "\n",
        "Metody *local RSS minimization* oraz *RSS gain maximization* są sobie równoważne. Natomiast, *total RSS minimization* nie jest równoważna z powyższymi metodami.\n",
        "\n",
        "1) Metoda *local RSS minimization* minimalizuje kolejne sumy błędów kwadratowych \"dzieci\", natomiast, *RSS gain maximization* maksymalizuje przyrost RSS. Ustalmy konkretny węzeł (\"rodzica\") w drzewie. Rozważymy w jaki sposób postępują obie metody w ustalaniu granicy dla \"dzieci\".\n",
        "*Local RSS minimization* minimalizuje wyrażenie: *RSS(R1)+RSS(R2)*, a *RSS gain maximization* maksymalizuje *RSS_rodzica-(RSS(R1)+RSS(R2))*. Zauważmy, że *RSS_rodzica* jest ustalone, zatem *RSS gain maximization* równoważnie maksymalizuje wartość *-(RSS(R1)+RSS(R2))*. Z kolei to jest równoważne z minimalizacją wartości *(RSS(R1)+RSS(R2))*, czym zajmuje się *local RSS minimization*.\n",
        "Dlatego, metody *local RSS minimization* oraz *RSS gain maximization* są sobie równoważne.\n",
        "\n",
        "2) Aby pokazać, iż *total RSS minimization* nie jest równoważna z pozostałymi dwoma metodami, gdyż może dojść do sytuacji, gdy pewnien podział nie minimalizuje lokalnie RSS, ale za to pozwala zminimalizować całkowite RSS. Poniżej zostanie zaprezentowany kontrprzykład:"
      ],
      "metadata": {
        "id": "yL5Nak6FI-OC"
      },
      "id": "yL5Nak6FI-OC"
    },
    {
      "cell_type": "code",
      "source": [
        "import numpy as np\n",
        "import matplotlib.pyplot as plt\n",
        "from sklearn.tree import DecisionTreeRegressor\n",
        "\n",
        "# let's analyze tree with max_depth = 2\n",
        "\n",
        "# creating a dataset for counterexample\n",
        "X = np.array([1, 2, 3, 4, 5, 6, 7, 8]).reshape(-1, 1)\n",
        "y = np.array([1, 1, 5, 5, 7, 7, 8, 8])\n",
        "\n",
        "# fitting DecisionTreeRegressor with max_depth=2 to see splits\n",
        "dt = DecisionTreeRegressor(max_depth=2, random_state=42)\n",
        "dt.fit(X, y)\n",
        "\n",
        "# getting the first split using sklearn\n",
        "sklearn_first_split = dt.tree_.threshold[0]\n",
        "print(f\"\\nscikit-learn's first split threshold: {sklearn_first_split}\")\n",
        "\n",
        "# function computing Local RSS for possible first splits\n",
        "def compute_rss(y_subset):\n",
        "    return np.sum((y_subset - np.mean(y_subset))**2) if len(y_subset) > 0 else 0\n",
        "\n",
        "# defining all possible splits\n",
        "possible_splits = [1.5, 2.5, 3.5, 4.5, 5.5, 6.5, 7.5]\n",
        "\n",
        "# calculating and printing Local RSS values for all possible splits\n",
        "print(\"\\nLocal RSS evaluation for first split:\")\n",
        "for t in possible_splits:\n",
        "    left = y[X.flatten() <= t]\n",
        "    right = y[X.flatten() > t]\n",
        "    rss = compute_rss(left) + compute_rss(right)\n",
        "    print(f\"Split at {t}: RSS = {rss:.1f}\")\n",
        "\n",
        "# defining function which will be used in finding second split for Total RSS Minimization\n",
        "def find_best_split(X_subset, y_subset):\n",
        "    if len(X_subset) <= 1:\n",
        "        return compute_rss(y_subset)\n",
        "    splits = (X_subset[:-1] + X_subset[1:])/2\n",
        "    best_rss = float('inf')\n",
        "    for t in splits:\n",
        "        l = y_subset[X_subset.flatten() <= t]\n",
        "        r = y_subset[X_subset.flatten() > t]\n",
        "        current_rss = compute_rss(l) + compute_rss(r)\n",
        "        if current_rss < best_rss:\n",
        "            best_rss = current_rss\n",
        "    return best_rss\n",
        "\n",
        "# calculating and printing Total RSS values for all possible splits\n",
        "print(\"\\nTotal RSS evaluation for different first splits:\")\n",
        "for t1 in possible_splits:\n",
        "\n",
        "    # first split\n",
        "    left_mask = X.flatten() <= t1\n",
        "    right_mask = X.flatten() > t1\n",
        "\n",
        "    # second splits\n",
        "    left_X, left_y = X[left_mask], y[left_mask]\n",
        "    right_X, right_y = X[right_mask], y[right_mask]\n",
        "\n",
        "    # finding best second split\n",
        "    left_rss = find_best_split(left_X, left_y)\n",
        "    right_rss = find_best_split(right_X, right_y)\n",
        "    total_rss = left_rss + right_rss\n",
        "    print(f\"First split at {t1}: Total RSS = {total_rss:.1f}\")\n",
        "\n",
        "# plotting\n",
        "plt.figure(figsize=(10, 5))\n",
        "plt.scatter(X, y, s=100, label='Data points')\n",
        "plt.axvline(sklearn_first_split, color='red',\n",
        "            label=f'scikit-learn first split (x={sklearn_first_split})')\n",
        "plt.xlabel('X')\n",
        "plt.ylabel('y')\n",
        "plt.title('Data points and sklearn first split')\n",
        "plt.legend()\n",
        "plt.show()\n"
      ],
      "metadata": {
        "id": "cEz9ZX70GnBq",
        "outputId": "84160c3b-485f-4f0a-eaa9-d88dbb68aada",
        "colab": {
          "base_uri": "https://localhost:8080/",
          "height": 834
        }
      },
      "id": "cEz9ZX70GnBq",
      "execution_count": null,
      "outputs": [
        {
          "output_type": "stream",
          "name": "stdout",
          "text": [
            "\n",
            "scikit-learn's first split threshold: 2.5\n",
            "\n",
            "Local RSS evaluation for first split:\n",
            "Split at 1.5: RSS = 36.9\n",
            "Split at 2.5: RSS = 9.3\n",
            "Split at 3.5: RSS = 16.7\n",
            "Split at 4.5: RSS = 17.0\n",
            "Split at 5.5: RSS = 29.5\n",
            "Split at 6.5: RSS = 37.3\n",
            "Split at 7.5: RSS = 48.9\n",
            "\n",
            "Total RSS evaluation for different first splits:\n",
            "First split at 1.5: Total RSS = 9.3\n",
            "First split at 2.5: Total RSS = 1.0\n",
            "First split at 3.5: Total RSS = 1.0\n",
            "First split at 4.5: Total RSS = 0.0\n",
            "First split at 5.5: Total RSS = 2.7\n",
            "First split at 6.5: Total RSS = 4.0\n",
            "First split at 7.5: Total RSS = 7.2\n"
          ]
        },
        {
          "output_type": "display_data",
          "data": {
            "text/plain": [
              "<Figure size 1000x500 with 1 Axes>"
            ],
            "image/png": "[encoded data removed]"
          },
          "metadata": {}
        }
      ]
    },
    {
      "cell_type": "markdown",
      "source": [
        "Jak możemy zauważyć powyżej, *Total RSS Minimization* wybrało punkt 4.5 jako pierwszy podział, podczas gdy *Local RSS Minimization* wzięło punkt 2.5, co pokazuje brak równoważności tych metod.\n",
        "\n",
        "Metoda zaimplementowana w bibliotece *scikit-learn* daje takie same rezultaty jak *Local RSS Minimization*: podział w x = 2.5. Można zatem stwierdzić, iż *scikit-learn* korzysta z metody równoważnej *Local RSS Minimization*."
      ],
      "metadata": {
        "id": "EeHsDhv7Mffk"
      },
      "id": "EeHsDhv7Mffk"
    }
  ],
  "metadata": {
    "colab": {
      "provenance": [],
      "toc_visible": true,
      "include_colab_link": true
    },
    "language_info": {
      "name": "python"
    },
    "kernelspec": {
      "name": "python3",
      "display_name": "Python 3"
    }
  },
  "nbformat": 4,
  "nbformat_minor": 5
}