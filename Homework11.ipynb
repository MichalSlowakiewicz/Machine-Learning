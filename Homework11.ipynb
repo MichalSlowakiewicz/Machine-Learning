{
  "cells": [
    {
      "cell_type": "markdown",
      "metadata": {
        "id": "view-in-github",
        "colab_type": "text"
      },
      "source": [
        "<a href=\"https://colab.research.google.com/github/MichalSlowakiewicz/Machine-Learning/blob/master/Homework11.ipynb\" target=\"_parent\"><img src=\"https://colab.research.google.com/assets/colab-badge.svg\" alt=\"Open In Colab\"/></a>"
      ]
    },
    {
      "cell_type": "markdown",
      "source": [
        "# **Homework Assignment: Understanding Deconvolution in Autoencoders**\n",
        "---------------\n",
        "\n",
        "In class, we worked with autoencoders built from multilayer perceptrons (MLPs). However, encoders are often constructed using convolutional architectures to better capture spatial patterns. In this assignment, you'll explore how the decoder can use deconvolutional (transposed convolution) layers to reverse and mirror the operations performed by the convolutional encoder.\n",
        "\n",
        "While convolutional encoders are relatively well understood, **decoding (or upsampling) the compressed representation** using **deconvolutional layers** (also known as **transposed convolutions**) often raises questions.\n",
        "\n",
        "This assignment is particularly relevant because deconvolution is a core component of the U-Net architecture, a prominent neural network used extensively in image segmentation tasks.\n",
        "\n",
        "Your main objective is to deeply understand **how transposed convolution layers work**, and explain them in both words and visuals.\n",
        "\n",
        "\n",
        "## **The Objective**\n",
        "\n",
        "Understand and clearly explain how **transposed convolutions** work. Use 2D transposed convolutions and a small grid of 2D points as a working example.\n",
        "\n",
        "You may need to do some additional reading to complete this assignment.\n",
        "\n",
        "## **Tasks & Deliverables**\n",
        "\n",
        "### 1. **Theory Exploration**\n",
        "\n",
        "Using markdown cells in your Colab notebook, answer the following:\n",
        "\n",
        "- What is a **transposed convolution**?\n",
        "- How does it differ from a regular convolution?\n",
        "- How does it upsample feature maps?\n",
        "- What are **stride**, **padding**, and **kernel size**, and how do they influence the result in a transposed convolution?\n",
        "- To earn full two points, your explanation must be detailed enough for a reader to reproduce the upsampling process step by step.\n",
        "\n",
        "\n",
        "### 2. **Manual Diagram (by your hand, not a generated image)**\n",
        "\n",
        "Carefully plan and draw **by hand** a diagram or a set of diagrams that:\n",
        "\n",
        "- Explain the process of using **transposed convolution**.\n",
        "- Use an example of a **small input grid of 2D points** which gets expanded into a larger output grid.\n",
        "- Explain how stride, padding, and the kernel shape affect the result.\n",
        "- Show intermediate steps of the operation, not just input and output.\n",
        "\n",
        "**Scan or photograph your diagram(s)**, and upload it to your **GitHub repository** for this course.\n",
        "\n",
        "Then embed it in your Colab notebook using markdown (you can find examples on *how to do it* in previous notebooks related to this class, e.g. the one on linear regression or the one on the MLP network).\n",
        "\n",
        "\n",
        "### 3. **Publish on GitHub**  \n",
        "   - Place the Colab notebook in your **GitHub repository** for this course.\n",
        "   - In your repository’s **README**, add a **link** to the notebook and also include an **“Open in Colab”** badge at the top of the notebook so it can be launched directly from GitHub.\n"
      ],
      "metadata": {
        "id": "4Ar3Nf6gOX4Y"
      },
      "id": "4Ar3Nf6gOX4Y"
    },
    {
      "cell_type": "markdown",
      "source": [
        "# **Theory Exploration**\n",
        "\n",
        "**What is a transposed convolution?**\n",
        "\n",
        "**How does it differ from a regular convolution?**\n",
        "\n",
        "  \"Transponowana konwolucja\" to operacja, która zwiększa rozmiar otrzymanej mapy cech (nie wiem czy mapa cech to odpowiednie określenie po polsku, ang. *featurre map*), tzn. generuje output większy niż otrzymany wcześniej input (np. na podstawie mapy 2x2 tworzy mapę 4x4). \"Transponowana konwolucja\" intuicyjnie działą jak konwolucja tylko odwrotnie - zamiast  zmniejszać obraz, powiększa go używając filtra (*kernel*). Warto w tym miejscu wspomnieć, w jaki sposób kontrolujemy jak bardzo *output* będzie większy niż *input* i generalnie, jakie parametry musimy ustawić przed rozpoczęcziem tej procedury. Wpływają na to parametry: *stride* - im większy będzie, tym bardziej obraz z *inputu* zostanie powiększony; *padding* - dodaje zera wokół obrazu, co sprawia, iż kontrolujemy ramkę ?; *size of kernel* - po prostu jest to rozmiar filtra (*kernela*) działającego analogicznie jak dla konwolucji, im większy będzie kernel tym bardziej rozmyte, ale płynniejszzy, będzie *output*."
      ],
      "metadata": {
        "id": "xX8kKHS7MmhP"
      },
      "id": "xX8kKHS7MmhP"
    }
  ],
  "metadata": {
    "colab": {
      "provenance": [],
      "toc_visible": true,
      "gpuType": "T4",
      "include_colab_link": true
    },
    "language_info": {
      "name": "python"
    },
    "kernelspec": {
      "name": "python3",
      "display_name": "Python 3"
    },
    "accelerator": "GPU"
  },
  "nbformat": 4,
  "nbformat_minor": 5
}