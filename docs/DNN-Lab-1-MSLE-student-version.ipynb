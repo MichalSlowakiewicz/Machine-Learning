{
  "nbformat": 4,
  "nbformat_minor": 0,
  "metadata": {
    "kernelspec": {
      "name": "python3",
      "display_name": "Python 3"
    },
    "colab": {
      "provenance": [],
      "toc_visible": true
    }
  },
  "cells": [
    {
      "cell_type": "markdown",
      "source": [
        "<center><img src='https://drive.google.com/uc?id=1_utx_ZGclmCwNttSe40kYA6VHzNocdET' height=\"60\"></center>\n",
        "\n",
        "AI TECH - Akademia Innowacyjnych Zastosowań Technologii Cyfrowych. Program Operacyjny Polska Cyfrowa na lata 2014-2020\n",
        "<hr>\n",
        "\n",
        "<center><img src='https://drive.google.com/uc?id=1BXZ0u3562N_MqCLcekI-Ens77Kk4LpPm'></center>\n",
        "\n",
        "<center>\n",
        "Projekt współfinansowany ze środków Unii Europejskiej w ramach Europejskiego Funduszu Rozwoju Regionalnego\n",
        "Program Operacyjny Polska Cyfrowa na lata 2014-2020,\n",
        "Oś Priorytetowa nr 3 \"Cyfrowe kompetencje społeczeństwa\" Działanie  nr 3.2 \"Innowacyjne rozwiązania na rzecz aktywizacji cyfrowej\"\n",
        "Tytuł projektu:  „Akademia Innowacyjnych Zastosowań Technologii Cyfrowych (AI Tech)”\n",
        "    </center>"
      ],
      "metadata": {
        "id": "Y676Rk9vA52c"
      }
    },
    {
      "cell_type": "markdown",
      "metadata": {
        "id": "VqdiMxZx-EoD"
      },
      "source": [
        "# Linear regression\n",
        "\n",
        "In this exercise, you will use linear regression to predict flat (apartment) prices. Training will be handled via gradient descent. We will:\n",
        "* have multiple features (i.e. variables used to make the prediction),\n",
        "* employ some basic feature engineering,\n",
        "* work with a non-standard loss function.\n",
        "\n",
        "Let's start by obtaining the data."
      ]
    },
    {
      "cell_type": "code",
      "metadata": {
        "id": "yI9wFXv5-EoP",
        "outputId": "6e189c8c-c6f4-4f98-a933-a650174e4b4b",
        "colab": {
          "base_uri": "https://localhost:8080/"
        }
      },
      "source": [
        "!wget --no-verbose -O mieszkania.csv https://www.dropbox.com/s/zey0gx91pna8irj/mieszkania.csv?dl=1\n",
        "!wget --no-verbose -O mieszkania_test.csv https://www.dropbox.com/s/dbrj6sbxb4ayqjz/mieszkania_test.csv?dl=1\n",
        "!head mieszkania.csv mieszkania_test.csv"
      ],
      "execution_count": 1,
      "outputs": [
        {
          "output_type": "stream",
          "name": "stdout",
          "text": [
            "2025-10-03 08:26:01 URL:https://uc1f0fc48474099dccfe943bcbcd.dl.dropboxusercontent.com/cd/0/inline/CyhyOvjRI1CboBdhEHHgDgiXYjkI4IdVPZ2f3516peqO95XiXOkAQV8D0PQvfEvqqSOO-19onezujHbAWPa9I2QWIGsO6aP-fmath2vn4XPHHqsbordtRMFC5MhAchYa0BE/file?dl=1 [6211/6211] -> \"mieszkania.csv\" [1]\n",
            "2025-10-03 08:26:02 URL:https://ucbad7c55c029ee3c6e1088fd870.dl.dropboxusercontent.com/cd/0/inline/CyhFQaJPoArdQi6MoovQ3dyo3gO8cTvuMkWlF2RcAh6UFv2jWKQnJGnZVudhHgkZVIt6e_rphxe6pF9aHPZgkUTfVfyn7A_fSx7qj4uaOAj64WZrxDYKpGWZz0CE4aEBWOM/file?dl=1 [6247/6247] -> \"mieszkania_test.csv\" [1]\n",
            "==> mieszkania.csv <==\n",
            "m2,dzielnica,ilość_sypialni,ilość_łazienek,rok_budowy,parking_podziemny,cena\n",
            "104,mokotowo,2,2,1940,1,780094\n",
            "43,ochotowo,1,1,1970,1,346912\n",
            "128,grodziskowo,3,2,1916,1,523466\n",
            "112,mokotowo,3,2,1920,1,830965\n",
            "149,mokotowo,3,3,1977,0,1090479\n",
            "80,ochotowo,2,2,1937,0,599060\n",
            "58,ochotowo,2,1,1922,0,463639\n",
            "23,ochotowo,1,1,1929,0,166785\n",
            "40,mokotowo,1,1,1973,0,318849\n",
            "\n",
            "==> mieszkania_test.csv <==\n",
            "m2,dzielnica,ilość_sypialni,ilość_łazienek,rok_budowy,parking_podziemny,cena\n",
            "71,wolowo,2,2,1912,1,322227\n",
            "45,mokotowo,1,1,1938,0,295878\n",
            "38,mokotowo,1,1,1999,1,306530\n",
            "70,ochotowo,2,2,1980,1,553641\n",
            "136,mokotowo,3,2,1939,1,985348\n",
            "128,wolowo,3,2,1983,1,695726\n",
            "23,grodziskowo,1,1,1975,0,99751\n",
            "117,mokotowo,3,2,1942,0,891261\n",
            "65,ochotowo,2,1,2002,1,536499\n"
          ]
        }
      ]
    },
    {
      "cell_type": "markdown",
      "metadata": {
        "id": "iH8Ut02G-EoU"
      },
      "source": [
        "Each row in the data represents a separate flat. Our goal is to use the data from `mieszkania.csv` to create a model that can predict a flat's price (i.e. `cena`) given its features (i.e. `m2,dzielnica,ilosc_sypialni,...`).\n",
        "\n",
        "We should use only `mieszkania.csv` (dubbed the training dataset) to make our decisions and create the model. The (only) purpose of `mieszkania_test.csv` is to test our model on **unseen** data."
      ]
    },
    {
      "cell_type": "code",
      "source": [
        "%matplotlib inline\n",
        "\n",
        "from typing import Any\n",
        "\n",
        "import matplotlib.pyplot as plt\n",
        "import numpy as np\n",
        "import pandas as pd\n",
        "from sklearn.preprocessing import LabelEncoder, OneHotEncoder, StandardScaler\n",
        "from tqdm.auto import tqdm\n",
        "\n",
        "NDArray = np.ndarray[Any, Any]\n",
        "\n",
        "np.set_printoptions(precision=4, suppress=True)\n",
        "np.random.seed(357)"
      ],
      "metadata": {
        "id": "r_F0mDKdWNp4"
      },
      "execution_count": 2,
      "outputs": []
    },
    {
      "cell_type": "markdown",
      "source": [
        "## Loading and converting data\n",
        "\n",
        "Let's start by loading the data and showing the range of prices we're working with."
      ],
      "metadata": {
        "id": "O4eyhKJKom2s"
      }
    },
    {
      "cell_type": "code",
      "source": [
        "def load(path: str) -> tuple[NDArray, NDArray]:\n",
        "    \"\"\"\n",
        "    Returns (x, y) where:\n",
        "    - x: input features, shape (n_apartments, n_features)\n",
        "    - y: price, shape (n_apartments,)\n",
        "    \"\"\"\n",
        "    data = pd.read_csv(path)\n",
        "    y = data[\"cena\"].to_numpy()\n",
        "    x = data.loc[:, data.columns != \"cena\"].to_numpy()\n",
        "    return x, y"
      ],
      "metadata": {
        "id": "NjwPnwzoWNs9"
      },
      "execution_count": 3,
      "outputs": []
    },
    {
      "cell_type": "code",
      "source": [
        "x_train, y_train = load(\"mieszkania.csv\")\n",
        "x_test, y_test = load(\"mieszkania_test.csv\")\n",
        "\n",
        "print(x_train.shape, y_train.shape)\n",
        "print(x_test.shape, y_test.shape)"
      ],
      "metadata": {
        "id": "rg-nV6_1WRk6",
        "colab": {
          "base_uri": "https://localhost:8080/"
        },
        "outputId": "8eb0d0d0-c236-40f3-e5db-c6416d3c8e84"
      },
      "execution_count": 4,
      "outputs": [
        {
          "output_type": "stream",
          "name": "stdout",
          "text": [
            "(200, 6) (200,)\n",
            "(200, 6) (200,)\n"
          ]
        }
      ]
    },
    {
      "cell_type": "code",
      "source": [
        "print(np.min(y_train), np.max(y_train), np.mean(y_train))"
      ],
      "metadata": {
        "colab": {
          "base_uri": "https://localhost:8080/"
        },
        "id": "tx5b_IpiZBNi",
        "outputId": "f50f0290-987d-4b52-f267-fae37aa08390"
      },
      "execution_count": 5,
      "outputs": [
        {
          "output_type": "stream",
          "name": "stdout",
          "text": [
            "102572 1102309 507919.49\n"
          ]
        }
      ]
    },
    {
      "cell_type": "code",
      "source": [
        "x_train[:3]"
      ],
      "metadata": {
        "colab": {
          "base_uri": "https://localhost:8080/"
        },
        "id": "X_oE2g2Yc9rt",
        "outputId": "f64e6c96-b6a7-4ce5-cae7-e959bf553811"
      },
      "execution_count": 6,
      "outputs": [
        {
          "output_type": "execute_result",
          "data": {
            "text/plain": [
              "array([[104, 'mokotowo', 2, 2, 1940, 1],\n",
              "       [43, 'ochotowo', 1, 1, 1970, 1],\n",
              "       [128, 'grodziskowo', 3, 2, 1916, 1]], dtype=object)"
            ]
          },
          "metadata": {},
          "execution_count": 6
        }
      ]
    },
    {
      "cell_type": "markdown",
      "source": [
        "We'll need to convert features to floats."
      ],
      "metadata": {
        "id": "Js0uXZK-c_NA"
      }
    },
    {
      "cell_type": "code",
      "source": [
        "# Convert column 1 from str to (ordinal) int.\n",
        "# (One-hot encoding would be better, but ordinal is OK for today.)\n",
        "label_encoder = LabelEncoder()\n",
        "label_encoder.fit(x_train[:, 1])\n",
        "x_train[:, 1] = label_encoder.transform(x_train[:, 1])\n",
        "x_test[:, 1] = label_encoder.transform(x_test[:, 1])\n",
        "\n",
        "# Convert ints to float.\n",
        "x_train = x_train.astype(np.float64)\n",
        "x_test = x_test.astype(np.float64)"
      ],
      "metadata": {
        "id": "QVTpIDKuWRq6"
      },
      "execution_count": 7,
      "outputs": []
    },
    {
      "cell_type": "code",
      "source": [
        "x_train[:3]"
      ],
      "metadata": {
        "colab": {
          "base_uri": "https://localhost:8080/"
        },
        "id": "ggvlLt-Tc3bX",
        "outputId": "8a3b56d2-604c-4b3d-f10f-8d1e8c2b0c1b"
      },
      "execution_count": 8,
      "outputs": [
        {
          "output_type": "execute_result",
          "data": {
            "text/plain": [
              "array([[ 104.,    1.,    2.,    2., 1940.,    1.],\n",
              "       [  43.,    2.,    1.,    1., 1970.,    1.],\n",
              "       [ 128.,    0.,    3.,    2., 1916.,    1.]])"
            ]
          },
          "metadata": {},
          "execution_count": 8
        }
      ]
    },
    {
      "cell_type": "markdown",
      "metadata": {
        "id": "y8QX6Ncr-EoW"
      },
      "source": [
        "## The loss and constant models\n",
        "\n",
        "Our predictions should minimize the so-called *mean squared logarithmic error*:\n",
        "$$\n",
        "MSLE = \\frac{1}{n} \\sum_{i=1}^n (\\log(1+y_i) - \\log(1+p_i))^2,\n",
        "$$\n",
        "where $y_i$ is the ground truth, and $p_i$ is our prediction.\n",
        "\n",
        "Let's implement the loss function first."
      ]
    },
    {
      "cell_type": "code",
      "source": [
        "def mse(ys: NDArray, ps: NDArray) -> np.float64:\n",
        "    assert ys.shape == ps.shape\n",
        "    return np.mean((ys - ps) * (ys - ps))"
      ],
      "metadata": {
        "id": "3tjQSlPgWXRN"
      },
      "execution_count": 9,
      "outputs": []
    },
    {
      "cell_type": "code",
      "metadata": {
        "id": "JAiB8S9A-EoX"
      },
      "source": [
        "def msle(ys: NDArray, ps: NDArray) -> np.float64:\n",
        "    assert ys.shape == ps.shape\n",
        "    #################################\n",
        "    # TODO: Implement this function #\n",
        "    #################################\n",
        "    return np.mean((np.log(1+ys)-np.log(1+ps))**2)"
      ],
      "execution_count": 31,
      "outputs": []
    },
    {
      "cell_type": "markdown",
      "metadata": {
        "id": "zAmd2qLR-Eob"
      },
      "source": [
        "The simplest model is predicting the same constant for each instance. Test your implementation of msle against outputing the mean price."
      ]
    },
    {
      "cell_type": "code",
      "metadata": {
        "id": "b0RT7VW7-Eoc",
        "outputId": "a55618d0-94dc-43b8-bc1a-16a613f958d6",
        "colab": {
          "base_uri": "https://localhost:8080/"
        }
      },
      "source": [
        "###################################################\n",
        "# TODO: Compute msle for outputing the mean price #\n",
        "###################################################\n",
        "y_mean = np.mean(y_train)\n",
        "msle_error =  msle(y_test, y_mean*np.ones(len(y_test)))\n",
        "print(msle_error)"
      ],
      "execution_count": 25,
      "outputs": [
        {
          "output_type": "stream",
          "name": "stdout",
          "text": [
            "0.4284115392580848\n"
          ]
        }
      ]
    },
    {
      "cell_type": "markdown",
      "metadata": {
        "id": "a0zMmTiv-Eof"
      },
      "source": [
        "Recall that outputing the mean minimizes $MSE$. However, we're now dealing with $MSLE$.\n",
        "\n",
        "Think of a constant that should result in the lowest $MSLE$."
      ]
    },
    {
      "cell_type": "code",
      "metadata": {
        "id": "Q0Z4drNd-Eog",
        "outputId": "ec7f49e3-d559-473e-b0b9-1810c64c9c6d",
        "colab": {
          "base_uri": "https://localhost:8080/"
        }
      },
      "source": [
        "#############################################\n",
        "# TODO: Find this constant and compute msle #\n",
        "#############################################\n",
        "\n",
        "y_mean = np.mean(np.log(y_train))\n",
        "y_mean = np.exp(y_mean)\n",
        "msle_error =  msle(y_test, np.ones(len(y_test))*y_mean)\n",
        "print(msle_error)\n"
      ],
      "execution_count": 27,
      "outputs": [
        {
          "output_type": "stream",
          "name": "stdout",
          "text": [
            "0.42757528293624447\n"
          ]
        }
      ]
    },
    {
      "cell_type": "markdown",
      "metadata": {
        "id": "2RdHlBw8-Eoi"
      },
      "source": [
        "## Linear regression (standard)\n",
        "\n",
        "Now, let's implement training of a standard linear regression model via gradient descent."
      ]
    },
    {
      "cell_type": "code",
      "metadata": {
        "id": "Vn97D3vd-Eoj",
        "outputId": "4ed565d5-a590-4cf4-b235-224046c308a7",
        "colab": {
          "base_uri": "https://localhost:8080/"
        }
      },
      "source": [
        "from sklearn.linear_model import LinearRegression\n",
        "\n",
        "def train(\n",
        "    x: NDArray, y: NDArray, alpha: float = 1e-7, n_iterations: int = 100000\n",
        ") -> tuple[NDArray, np.float64]:\n",
        "    \"\"\"Linear regression (which optimizes MSE). Returns (weights, bias).\"\"\"\n",
        "\n",
        "    # B is batch size (number of observations).\n",
        "    # F is number of (input) features.\n",
        "    B, F = x.shape\n",
        "    assert y.shape == (B,)\n",
        "\n",
        "    # TODO #\n",
        "    model = LinearRegression()\n",
        "    model.fit(x, y)\n",
        "    weights = model.coef_\n",
        "    bias = model.intercept_\n",
        "    return weights, bias\n",
        "\n",
        "weights, bias = train(x_train, y_train)\n",
        "preds_test =  x_test @ np.transpose(weights) + bias\n",
        "print(\"test MSLE:\", msle(y_test, preds_test))"
      ],
      "execution_count": 46,
      "outputs": [
        {
          "output_type": "stream",
          "name": "stdout",
          "text": [
            "(200, 6) (6,)\n",
            "[ 5830.5496 21434.9351 12283.9731 10320.3431   670.9021 32189.9915]\n",
            "test MSLE: 0.07098684418438012\n"
          ]
        }
      ]
    },
    {
      "cell_type": "markdown",
      "source": [
        "## Linear regression (MSLE)"
      ],
      "metadata": {
        "id": "cfMn93ejteWt"
      }
    },
    {
      "cell_type": "markdown",
      "metadata": {
        "id": "nzrrOte5-Eol"
      },
      "source": [
        "Note that the loss function that the algorithms optimizes (i.e $MSE$) differs from $MSLE$. We've already seen that this may result in a suboptimal solution.\n",
        "\n",
        "How can you change the setting so that we optimze $MSLE$ instead?"
      ]
    },
    {
      "cell_type": "markdown",
      "metadata": {
        "id": "qVD8kWEJ-Eom"
      },
      "source": [
        "Hint:\n",
        "<sub><sup><sub><sup><sub><sup>\n",
        "Be lazy. We don't want to change the algorithm.\n",
        "Use the chain rule and previous computations to get formulas for the gradient.\n",
        "</sup></sub></sup></sub></sup></sub>"
      ]
    },
    {
      "cell_type": "code",
      "source": [
        "def compute_gradient(X, y, theta):\n",
        "    m = len(y)\n",
        "    predictions = X.dot(theta)\n",
        "    errors = predictions - y\n",
        "    gradient = (1 / m) * X.T.dot(errors)\n",
        "    return gradient\n",
        "\n",
        "def train(\n",
        "    x: NDArray, y: NDArray, alpha: float = 1e-7, n_iterations: int = 100000\n",
        ") -> tuple[NDArray, np.float64]:\n",
        "    \"\"\"Linear regression (which optimizes MSE). Returns (weights, bias).\"\"\"\n",
        "\n",
        "    # B is batch size (number of observations).\n",
        "    # F is number of (input) features.\n",
        "    B, F = x.shape\n",
        "    theta = np.zeros(F+1)\n",
        "    x = np.hstack([np.ones((B, 1)), x])\n",
        "    assert y.shape == (B,)\n",
        "    for i in range(n_iterations):\n",
        "      gradient = compute_gradient(x, y, theta)\n",
        "      theta -= alpha * gradient\n",
        "\n",
        "    weights = theta[1:]\n",
        "    bias = theta[0]\n",
        "    return weights, bias\n",
        "\n",
        "weights, bias = train(x_train, y_train)\n",
        "preds_test = x_test.dot(weights) + bias # TODO #\n",
        "print(\"test MSLE: \", msle(y_test, preds_test))"
      ],
      "metadata": {
        "id": "2b32Ph3ha1ho",
        "outputId": "b2e18ca7-a2c7-4cd4-948e-6a49c56d752c",
        "colab": {
          "base_uri": "https://localhost:8080/"
        }
      },
      "execution_count": 68,
      "outputs": [
        {
          "output_type": "stream",
          "name": "stdout",
          "text": [
            "test MSLE:  0.08060243628969568\n"
          ]
        }
      ]
    },
    {
      "cell_type": "code",
      "metadata": {
        "id": "MniIPMg8-Eom",
        "outputId": "34febff9-93d2-42c3-c362-1e470f05e02f",
        "colab": {
          "base_uri": "https://localhost:8080/"
        }
      },
      "source": [
        "def compute_gradient(X, y, theta):\n",
        "    m = len(y)\n",
        "    predictions = X.dot(theta)\n",
        "    errors = predictions - y\n",
        "    gradient = (1 / m) * X.T.dot(errors)\n",
        "    return gradient\n",
        "\n",
        "def train(\n",
        "    x: NDArray, y: NDArray, alpha: float = 1e-7, n_iterations: int = 100000\n",
        ") -> tuple[NDArray, np.float64]:\n",
        "    \"\"\"Linear regression (which optimizes MSE). Returns (weights, bias).\"\"\"\n",
        "\n",
        "    # B is batch size (number of observations).\n",
        "    # F is number of (input) features.\n",
        "    B, F = x.shape\n",
        "    theta = np.zeros(F+1)\n",
        "    x = np.hstack([np.ones((B, 1)), x])\n",
        "    assert y.shape == (B,)\n",
        "    for i in range(n_iterations):\n",
        "      gradient = compute_gradient(x, y, theta)\n",
        "      theta -= alpha * gradient\n",
        "\n",
        "    weights = theta[1:]\n",
        "    bias = theta[0]\n",
        "    return weights, bias\n",
        "\n",
        "weights, bias = train(x_train, y_train)\n",
        "preds_test = x_test.dot(weights) + bias # TODO #\n",
        "print(\"test MSLE: \", msle(y_test, preds_test))"
      ],
      "execution_count": 69,
      "outputs": [
        {
          "output_type": "stream",
          "name": "stdout",
          "text": [
            "test MSLE:  0.08060243628969568\n"
          ]
        }
      ]
    },
    {
      "cell_type": "markdown",
      "source": [
        "## Feature engineering"
      ],
      "metadata": {
        "id": "7yfrbDbDrTns"
      }
    },
    {
      "cell_type": "markdown",
      "metadata": {
        "id": "OvWrBkLu-Eoo"
      },
      "source": [
        "Without any feature engineering our model approximates the price as a linear combination of original features:\n",
        "$$\n",
        "\\text{price} \\approx w_1 \\cdot \\text{area} + w_2 \\cdot \\text{district} + \\dots.\n",
        "$$\n",
        "Let's now introduce some interactions between the variables. For instance, let's consider a following formula:\n",
        "$$\n",
        "\\text{price} \\approx w_1 \\cdot \\text{area} \\cdot \\text{avg. price in the district per sq. meter} + w_2 \\cdot \\dots + \\dots.\n",
        "$$\n",
        "Here, we model the price with far greater granularity, and we may expect to see more acurate results."
      ]
    },
    {
      "cell_type": "markdown",
      "metadata": {
        "id": "zBM60E7t-Eop"
      },
      "source": [
        "Add some feature engineering to your model. Be sure to play with the data and not with the algorithm's code.\n",
        "\n",
        "Think how to make sure that your model is capable of capturing the $w_1 \\cdot \\text{area} \\cdot \\text{avg. price...}$ part, without actually computing the averages.\n",
        "\n",
        "Note that you may need to change the learning rate substantially."
      ]
    },
    {
      "cell_type": "markdown",
      "metadata": {
        "id": "XT5DziNC-Eoq"
      },
      "source": [
        "Hint:\n",
        "<sub><sup><sub><sup><sub><sup>\n",
        "Is having a binary encoding for each district and multiplying it by area enough?\n",
        "</sup></sub></sup></sub></sup></sub>"
      ]
    },
    {
      "cell_type": "markdown",
      "metadata": {
        "id": "PKOVCHNz-Eor"
      },
      "source": [
        "Hint 2:\n",
        "<sub><sup><sub><sup><sub><sup>\n",
        "Why not multiply everything together? I.e. (A,B,C) -> (AB,AC,BC).\n",
        "</sup></sub></sup></sub></sup></sub>"
      ]
    },
    {
      "cell_type": "code",
      "source": [
        "###############################################\n",
        "# TODO: Implement the feature engineering part #\n",
        "###############################################"
      ],
      "metadata": {
        "id": "IgfbFqwgEXdf"
      },
      "execution_count": null,
      "outputs": []
    },
    {
      "cell_type": "code",
      "metadata": {
        "id": "v2Lj1TPr-Eot"
      },
      "source": [
        "##############################################################\n",
        "# TODO: Test your solution on the training and test datasets #\n",
        "##############################################################"
      ],
      "execution_count": null,
      "outputs": []
    },
    {
      "cell_type": "markdown",
      "source": [
        "# Validation"
      ],
      "metadata": {
        "id": "vdlipjGexuWl"
      }
    },
    {
      "cell_type": "markdown",
      "source": [
        "In this exercise you will implement a validation pipeline: split the non-test set into train and validation sets and select the best model based on validation results.\n",
        "\n",
        "So far you tested your model against the training and test datasets. As you should observe, there's a gap between the results. By validating your model, you should be able to better anticipate the test time performance and compare different models and hyperparameters on datasets they are not over-fitted to.\n",
        "\n",
        "Implement the basic validation method, i.e. a random split. Test it with your model from Exercise MSLE."
      ],
      "metadata": {
        "id": "5P1m1Bi1yEs_"
      }
    },
    {
      "cell_type": "code",
      "source": [
        "x_train_val, y_train_val = x_train, y_train\n",
        "x_test, y_test = x_test, y_test\n",
        "\n",
        "\n",
        "def random_split(\n",
        "    x: NDArray, y: NDArray, val_ratio: float = 0.2\n",
        ") -> tuple[tuple[NDArray, NDArray], tuple[NDArray, NDArray]]:\n",
        "    \"\"\"Returns (x_train, y_train), (x_val, y_val).\"\"\"\n",
        "\n",
        "    idxs = np.random.permutation(len(x))\n",
        "\n",
        "    ######################################################\n",
        "    # TODO: Implement the basic validation split method. #\n",
        "    ######################################################\n",
        "\n",
        "\n",
        "\n",
        "\n",
        "(x_train, y_train), (x_val, y_val) = random_split(x_train_val, y_train_val)\n",
        "\n",
        "len(x_train), len(x_val), len(x_test)"
      ],
      "metadata": {
        "colab": {
          "base_uri": "https://localhost:8080/"
        },
        "id": "YLvtN4Puxwu3",
        "outputId": "2324b9a7-4ee0-4e9b-8c0d-63998e4a4edc"
      },
      "execution_count": null,
      "outputs": [
        {
          "output_type": "execute_result",
          "data": {
            "text/plain": [
              "(160, 40, 200)"
            ]
          },
          "metadata": {},
          "execution_count": 23
        }
      ]
    },
    {
      "cell_type": "code",
      "source": [
        "#############################################################\n",
        "# TODO: compare MSLE on training, validation, and test sets #\n",
        "#############################################################"
      ],
      "metadata": {
        "id": "CMc4r9oWHSZN"
      },
      "execution_count": null,
      "outputs": []
    },
    {
      "cell_type": "markdown",
      "source": [
        "## Cross-validation"
      ],
      "metadata": {
        "id": "LImWR9ki69T7"
      }
    },
    {
      "cell_type": "markdown",
      "source": [
        "To make the random split validation reliable, a significant chunk of training data may be needed. To get over this problem, one may apply cross-validation.\n",
        "\n",
        "![alt-text](https://chrisjmccormick.files.wordpress.com/2013/07/10_fold_cv.png)\n",
        "\n",
        "Let's now implement the method. Make sure that:\n",
        "* number of partitions is a parameter,\n",
        "* the method is not limited to `mieszkania.csv`,\n",
        "* the method is not limited to one specific model."
      ],
      "metadata": {
        "id": "sWX_Soa25XJb"
      }
    },
    {
      "cell_type": "code",
      "source": [
        "####################################\n",
        "# TODO: Implement cross-validation #\n",
        "####################################\n",
        "def kfold(x: NDArray, y: NDArray, n_folds: int = 5, shuffle: bool = False) -> list[float]:\n",
        "    \"\"\"Returns losses for each fold.\"\"\"\n",
        "\n",
        "\n",
        "\n",
        "losses = kfold(x_train_val, y_train_val, n_folds=3, shuffle=False)\n",
        "print(f\"k-fold loss: {np.mean(losses):.4f} +- {np.std(losses):.4f}\")\n"
      ],
      "metadata": {
        "id": "ma_OGKv80rln"
      },
      "execution_count": null,
      "outputs": []
    },
    {
      "cell_type": "markdown",
      "source": [
        "## Investigating input data"
      ],
      "metadata": {
        "id": "Rd7h-hJl7Q_3"
      }
    },
    {
      "cell_type": "markdown",
      "source": [
        "Recall that sometimes validation may be tricky, e.g. significant class imbalance, having a small number of subjects, geographically clustered instances...\n",
        "\n",
        "What could in theory go wrong here with random, unstratified partitions? Think about potential solutions and investigate the data in order to check whether these problems arise here."
      ],
      "metadata": {
        "id": "jFeQiTQc7Rid"
      }
    },
    {
      "cell_type": "code",
      "source": [
        "##############################\n",
        "# TODO: Investigate the data #\n",
        "##############################"
      ],
      "metadata": {
        "id": "1JQKK6wZ7SAi"
      },
      "execution_count": null,
      "outputs": []
    }
  ]
}